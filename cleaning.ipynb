{
 "cells": [
  {
   "cell_type": "code",
   "execution_count": 1,
   "metadata": {},
   "outputs": [],
   "source": [
    "import os\n",
    "import pandas as pd"
   ]
  },
  {
   "cell_type": "code",
   "execution_count": 2,
   "metadata": {},
   "outputs": [
    {
     "data": {
      "text/html": [
       "<div>\n",
       "<style scoped>\n",
       "    .dataframe tbody tr th:only-of-type {\n",
       "        vertical-align: middle;\n",
       "    }\n",
       "\n",
       "    .dataframe tbody tr th {\n",
       "        vertical-align: top;\n",
       "    }\n",
       "\n",
       "    .dataframe thead th {\n",
       "        text-align: right;\n",
       "    }\n",
       "</style>\n",
       "<table border=\"1\" class=\"dataframe\">\n",
       "  <thead>\n",
       "    <tr style=\"text-align: right;\">\n",
       "      <th></th>\n",
       "      <th>NO_ISIC_CLASSE</th>\n",
       "      <th>NO_ISIC_GRUPO</th>\n",
       "      <th>NO_ISIC_DIVISAO</th>\n",
       "      <th>CO_NCM</th>\n",
       "      <th>NO_NCM_POR</th>\n",
       "    </tr>\n",
       "  </thead>\n",
       "  <tbody>\n",
       "    <tr>\n",
       "      <th>0</th>\n",
       "      <td>Cultivo de outras culturas perenes</td>\n",
       "      <td>Cultivo de culturas perenes</td>\n",
       "      <td>Produção vegetal, animal e caça</td>\n",
       "      <td>14011000</td>\n",
       "      <td>Bambus para cestaria ou espartaria</td>\n",
       "    </tr>\n",
       "    <tr>\n",
       "      <th>1</th>\n",
       "      <td>Cultivo de outras culturas perenes</td>\n",
       "      <td>Cultivo de culturas perenes</td>\n",
       "      <td>Produção vegetal, animal e caça</td>\n",
       "      <td>14012000</td>\n",
       "      <td>Rotins para cestaria ou espartaria</td>\n",
       "    </tr>\n",
       "  </tbody>\n",
       "</table>\n",
       "</div>"
      ],
      "text/plain": [
       "                       NO_ISIC_CLASSE                NO_ISIC_GRUPO  \\\n",
       "0  Cultivo de outras culturas perenes  Cultivo de culturas perenes   \n",
       "1  Cultivo de outras culturas perenes  Cultivo de culturas perenes   \n",
       "\n",
       "                   NO_ISIC_DIVISAO    CO_NCM  \\\n",
       "0  Produção vegetal, animal e caça  14011000   \n",
       "1  Produção vegetal, animal e caça  14012000   \n",
       "\n",
       "                           NO_NCM_POR  \n",
       "0  Bambus para cestaria ou espartaria  \n",
       "1  Rotins para cestaria ou espartaria  "
      ]
     },
     "execution_count": 2,
     "metadata": {},
     "output_type": "execute_result"
    }
   ],
   "source": [
    "# Obtendo os produtos de interesse agropecuário:\n",
    "\n",
    "isic = pd.read_csv('DB/NCM_ISIC.csv', encoding='latin', sep = ';')\n",
    "isic_agro = isic.loc[isic['CO_ISIC_SECAO'] == 'A']\n",
    "\n",
    "isic_agro = isic_agro[['CO_ISIC_CLASSE', 'NO_ISIC_CLASSE', 'NO_ISIC_GRUPO', \n",
    "                       'NO_ISIC_DIVISAO']]\n",
    "\n",
    "ncm = pd.read_csv('DB/NCM.csv', encoding='latin', sep = ';')\n",
    "ncm_agro = pd.merge(isic_agro, ncm, on = 'CO_ISIC_CLASSE', how = 'inner')\n",
    "\n",
    "ncm_agro.drop(['CO_ISIC_CLASSE', 'CO_UNID', 'CO_SH6', 'CO_PPE', 'CO_PPI', \n",
    "       'CO_FAT_AGREG', 'CO_CUCI_ITEM', 'CO_CGCE_N3', 'CO_SIIT', 'CO_EXP_SUBSET', \n",
    "       'NO_NCM_ESP', 'NO_NCM_ING'], axis = 1, inplace=True)\n",
    "\n",
    "ncm_agro.head(2)"
   ]
  },
  {
   "cell_type": "code",
   "execution_count": 3,
   "metadata": {},
   "outputs": [],
   "source": [
    "# Filtrando os produtos agropecuários exportados\n",
    "\n",
    "exp = pd.DataFrame()\n",
    "\n",
    "for file in os.listdir('DB/EXP/'):\n",
    "    data = pd.read_csv('DB/EXP/'+ file, encoding='latin', sep=';')\n",
    "    data = data.loc[data['CO_NCM'].isin(ncm_agro['CO_NCM'])]\n",
    "    exp = pd.concat([exp, data], ignore_index=True)\n",
    "exp_agro = pd.merge(exp, ncm_agro, on = 'CO_NCM', how = 'inner')"
   ]
  },
  {
   "cell_type": "code",
   "execution_count": null,
   "metadata": {},
   "outputs": [],
   "source": [
    "# Filtrando os produtos agropecuários importados\n",
    "\n",
    "imp = pd.DataFrame()\n",
    "\n",
    "for file in os.listdir('DB/IMP/'):\n",
    "    data = pd.read_csv('DB/IMP/'+ file, encoding='latin', sep=';')\n",
    "    data = data.loc[data['CO_NCM'].isin(ncm_agro['CO_NCM'])]\n",
    "    imp = pd.concat([imp, data], ignore_index=True)\n",
    "imp_agro = pd.merge(imp, ncm_agro, on = 'CO_NCM', how = 'inner')"
   ]
  },
  {
   "cell_type": "code",
   "execution_count": null,
   "metadata": {},
   "outputs": [],
   "source": [
    "pais = pd.read_csv('DB/PAIS.csv', encoding='latin', sep= ';')\n",
    "\n",
    "exp_agro = pd.merge(exp_agro, pais[['CO_PAIS', 'NO_PAIS']], on='CO_PAIS', how = 'left')\n",
    "exp_agro.drop('CO_PAIS', axis=1, inplace=True)\n",
    "\n",
    "imp_agro = pd.merge(imp_agro, pais[['CO_PAIS', 'NO_PAIS']], on='CO_PAIS', how = 'left')\n",
    "imp_agro.drop('CO_PAIS', axis=1, inplace=True)"
   ]
  },
  {
   "cell_type": "code",
   "execution_count": null,
   "metadata": {},
   "outputs": [],
   "source": [
    "via = pd.read_csv('DB/VIA.csv', encoding = 'latin', sep = ';')\n",
    "\n",
    "exp_agro = pd.merge(exp_agro, via[['CO_VIA', 'NO_VIA']], on='CO_VIA', how = 'left')\n",
    "exp_agro.drop('CO_VIA', axis=1, inplace=True)\n",
    "\n",
    "imp_agro = pd.merge(imp_agro, via[['CO_VIA', 'NO_VIA']], on='CO_VIA', how = 'left')\n",
    "imp_agro.drop('CO_VIA', axis=1, inplace=True)"
   ]
  },
  {
   "cell_type": "code",
   "execution_count": null,
   "metadata": {},
   "outputs": [],
   "source": [
    "uf = pd.read_csv('DB/UF.csv', encoding= 'latin', sep=';')\n",
    "\n",
    "exp_agro = pd.merge(exp_agro, uf[['SG_UF', 'NO_UF', 'NO_REGIAO']], \n",
    "                    left_on='SG_UF_NCM', right_on='SG_UF', how = 'left')\n",
    "exp_agro.drop('SG_UF_NCM', axis=1, inplace=True)\n",
    "\n",
    "imp_agro = pd.merge(imp_agro, uf[['SG_UF', 'NO_UF', 'NO_REGIAO']], \n",
    "                    left_on='SG_UF_NCM', right_on='SG_UF', how = 'left')\n",
    "imp_agro.drop('SG_UF_NCM', axis=1, inplace=True)\n"
   ]
  },
  {
   "cell_type": "code",
   "execution_count": null,
   "metadata": {},
   "outputs": [],
   "source": [
    "exp_agro.drop(['CO_NCM', 'CO_UNID', 'CO_URF', 'QT_ESTAT'], axis = 1, inplace=True)\n",
    "\n",
    "imp_agro.drop(['CO_NCM', 'CO_UNID', 'CO_URF', 'QT_ESTAT'], axis = 1, inplace=True)"
   ]
  },
  {
   "cell_type": "code",
   "execution_count": null,
   "metadata": {},
   "outputs": [],
   "source": [
    "exp_agro['Data'] = pd.to_datetime(exp_agro['CO_ANO'].astype(str) + '-' + exp_agro['CO_MES'].astype(str), format='%Y-%m')\n",
    "exp_agro.drop(['CO_ANO','CO_MES'], axis = 1, inplace=True)\n",
    "\n",
    "imp_agro['Data'] = pd.to_datetime(imp_agro['CO_ANO'].astype(str) + '-' + imp_agro['CO_MES'].astype(str), format='%Y-%m')\n",
    "imp_agro.drop(['CO_ANO','CO_MES'], axis = 1, inplace=True)"
   ]
  },
  {
   "cell_type": "code",
   "execution_count": null,
   "metadata": {},
   "outputs": [],
   "source": [
    "# Exportando os dados\n",
    "exp_agro.to_csv('DB/exp_agro.csv')\n",
    "imp_agro.to_csv('DB/imp_agro.csv')"
   ]
  }
 ],
 "metadata": {
  "kernelspec": {
   "display_name": "Python 3",
   "language": "python",
   "name": "python3"
  },
  "language_info": {
   "codemirror_mode": {
    "name": "ipython",
    "version": 3
   },
   "file_extension": ".py",
   "mimetype": "text/x-python",
   "name": "python",
   "nbconvert_exporter": "python",
   "pygments_lexer": "ipython3",
   "version": "3.10.6"
  },
  "orig_nbformat": 4
 },
 "nbformat": 4,
 "nbformat_minor": 2
}
