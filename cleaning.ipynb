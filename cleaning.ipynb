{
 "cells": [
  {
   "cell_type": "code",
   "execution_count": 1,
   "metadata": {},
   "outputs": [],
   "source": [
    "import os\n",
    "import pandas as pd"
   ]
  },
  {
   "attachments": {},
   "cell_type": "markdown",
   "metadata": {},
   "source": [
    "### Obtendo os Dados"
   ]
  },
  {
   "cell_type": "code",
   "execution_count": 2,
   "metadata": {},
   "outputs": [
    {
     "data": {
      "text/html": [
       "<div>\n",
       "<style scoped>\n",
       "    .dataframe tbody tr th:only-of-type {\n",
       "        vertical-align: middle;\n",
       "    }\n",
       "\n",
       "    .dataframe tbody tr th {\n",
       "        vertical-align: top;\n",
       "    }\n",
       "\n",
       "    .dataframe thead th {\n",
       "        text-align: right;\n",
       "    }\n",
       "</style>\n",
       "<table border=\"1\" class=\"dataframe\">\n",
       "  <thead>\n",
       "    <tr style=\"text-align: right;\">\n",
       "      <th></th>\n",
       "      <th>NO_ISIC_CLASSE</th>\n",
       "      <th>NO_ISIC_GRUPO</th>\n",
       "      <th>NO_ISIC_DIVISAO</th>\n",
       "      <th>CO_NCM</th>\n",
       "      <th>NO_NCM_POR</th>\n",
       "    </tr>\n",
       "  </thead>\n",
       "  <tbody>\n",
       "    <tr>\n",
       "      <th>0</th>\n",
       "      <td>Cultivo de outras culturas perenes</td>\n",
       "      <td>Cultivo de culturas perenes</td>\n",
       "      <td>Produção vegetal, animal e caça</td>\n",
       "      <td>14011000</td>\n",
       "      <td>Bambus para cestaria ou espartaria</td>\n",
       "    </tr>\n",
       "    <tr>\n",
       "      <th>1</th>\n",
       "      <td>Cultivo de outras culturas perenes</td>\n",
       "      <td>Cultivo de culturas perenes</td>\n",
       "      <td>Produção vegetal, animal e caça</td>\n",
       "      <td>14012000</td>\n",
       "      <td>Rotins para cestaria ou espartaria</td>\n",
       "    </tr>\n",
       "  </tbody>\n",
       "</table>\n",
       "</div>"
      ],
      "text/plain": [
       "                       NO_ISIC_CLASSE                NO_ISIC_GRUPO  \\\n",
       "0  Cultivo de outras culturas perenes  Cultivo de culturas perenes   \n",
       "1  Cultivo de outras culturas perenes  Cultivo de culturas perenes   \n",
       "\n",
       "                   NO_ISIC_DIVISAO    CO_NCM  \\\n",
       "0  Produção vegetal, animal e caça  14011000   \n",
       "1  Produção vegetal, animal e caça  14012000   \n",
       "\n",
       "                           NO_NCM_POR  \n",
       "0  Bambus para cestaria ou espartaria  \n",
       "1  Rotins para cestaria ou espartaria  "
      ]
     },
     "execution_count": 2,
     "metadata": {},
     "output_type": "execute_result"
    }
   ],
   "source": [
    "# Obtendo os produtos de interesse agropecuário:\n",
    "\n",
    "isic = pd.read_csv('DB/NCM_ISIC.csv', encoding='latin', sep = ';')\n",
    "isic_agro = isic.loc[isic['CO_ISIC_SECAO'] == 'A']\n",
    "\n",
    "isic_agro = isic_agro[['CO_ISIC_CLASSE', 'NO_ISIC_CLASSE', 'NO_ISIC_GRUPO', \n",
    "                       'NO_ISIC_DIVISAO']]\n",
    "\n",
    "ncm = pd.read_csv('DB/NCM.csv', encoding='latin', sep = ';')\n",
    "ncm_agro = pd.merge(isic_agro, ncm, on = 'CO_ISIC_CLASSE', how = 'inner')\n",
    "\n",
    "ncm_agro.drop(['CO_ISIC_CLASSE', 'CO_UNID', 'CO_SH6', 'CO_PPE', 'CO_PPI', \n",
    "       'CO_FAT_AGREG', 'CO_CUCI_ITEM', 'CO_CGCE_N3', 'CO_SIIT', 'CO_EXP_SUBSET', \n",
    "       'NO_NCM_ESP', 'NO_NCM_ING'], axis = 1, inplace=True)\n",
    "\n",
    "ncm_agro.head(2)"
   ]
  },
  {
   "cell_type": "code",
   "execution_count": 6,
   "metadata": {},
   "outputs": [],
   "source": [
    "# Filtrando os produtos agropecuários exportados\n",
    "\n",
    "exp = pd.DataFrame()\n",
    "\n",
    "for file in os.listdir('DB/EXP/'):\n",
    "    data = pd.read_csv('DB/EXP/'+ file, encoding='latin', sep=';')\n",
    "    data = data.loc[data['CO_NCM'].isin(ncm_agro['CO_NCM'])]\n",
    "    exp = pd.concat([exp, data], ignore_index=True)\n",
    "exp_agro = pd.merge(exp, ncm_agro, on = 'CO_NCM', how = 'inner')\n",
    "exp_agro['Operação'] = 'Exportação'"
   ]
  },
  {
   "cell_type": "code",
   "execution_count": 7,
   "metadata": {},
   "outputs": [],
   "source": [
    "# Filtrando os produtos agropecuários importados\n",
    "\n",
    "imp = pd.DataFrame()\n",
    "\n",
    "for file in os.listdir('DB/IMP/'):\n",
    "    data = pd.read_csv('DB/IMP/'+ file, encoding='latin', sep=';')\n",
    "    data = data.loc[data['CO_NCM'].isin(ncm_agro['CO_NCM'])]\n",
    "    imp = pd.concat([imp, data], ignore_index=True)\n",
    "imp_agro = pd.merge(imp, ncm_agro, on = 'CO_NCM', how = 'inner')\n",
    "imp_agro['Operação'] = 'Importação'"
   ]
  },
  {
   "attachments": {},
   "cell_type": "markdown",
   "metadata": {},
   "source": [
    "### Limpando os Dados"
   ]
  },
  {
   "cell_type": "code",
   "execution_count": 9,
   "metadata": {},
   "outputs": [],
   "source": [
    "# Agregando os valores do frete e do seguro no preço da mercadoria\n",
    "\n",
    "imp_agro['VL_FOB'] = imp_agro['VL_FOB'] + imp_agro['VL_FRETE'] + imp_agro['VL_SEGURO']"
   ]
  },
  {
   "cell_type": "code",
   "execution_count": 10,
   "metadata": {},
   "outputs": [],
   "source": [
    "# Criando uma tabela única para as importações e exportações\n",
    "\n",
    "comex_agro = pd.concat([imp_agro, exp_agro], ignore_index=True)"
   ]
  },
  {
   "cell_type": "code",
   "execution_count": 29,
   "metadata": {},
   "outputs": [
    {
     "data": {
      "text/html": [
       "<div>\n",
       "<style scoped>\n",
       "    .dataframe tbody tr th:only-of-type {\n",
       "        vertical-align: middle;\n",
       "    }\n",
       "\n",
       "    .dataframe tbody tr th {\n",
       "        vertical-align: top;\n",
       "    }\n",
       "\n",
       "    .dataframe thead th {\n",
       "        text-align: right;\n",
       "    }\n",
       "</style>\n",
       "<table border=\"1\" class=\"dataframe\">\n",
       "  <thead>\n",
       "    <tr style=\"text-align: right;\">\n",
       "      <th></th>\n",
       "      <th>Peso Líquido (Kg)</th>\n",
       "      <th>Custo FOB (U$)</th>\n",
       "      <th>Classe</th>\n",
       "      <th>Grupo</th>\n",
       "      <th>Divisão</th>\n",
       "      <th>Nomeclatura NCM</th>\n",
       "      <th>Operação</th>\n",
       "      <th>País</th>\n",
       "      <th>Modal de Transporte</th>\n",
       "      <th>UF</th>\n",
       "      <th>Data</th>\n",
       "    </tr>\n",
       "  </thead>\n",
       "  <tbody>\n",
       "    <tr>\n",
       "      <th>0</th>\n",
       "      <td>10500</td>\n",
       "      <td>86734</td>\n",
       "      <td>Cultivo de outras frutas e nozes</td>\n",
       "      <td>Cultivo de culturas perenes</td>\n",
       "      <td>Produção vegetal, animal e caça</td>\n",
       "      <td>Nozes frescas ou secas, sem casca</td>\n",
       "      <td>Importação</td>\n",
       "      <td>Chile</td>\n",
       "      <td>MARITIMA</td>\n",
       "      <td>Santa Catarina</td>\n",
       "      <td>2021-11-01</td>\n",
       "    </tr>\n",
       "    <tr>\n",
       "      <th>1</th>\n",
       "      <td>1186</td>\n",
       "      <td>12544</td>\n",
       "      <td>Cultivo de outras frutas e nozes</td>\n",
       "      <td>Cultivo de culturas perenes</td>\n",
       "      <td>Produção vegetal, animal e caça</td>\n",
       "      <td>Nozes frescas ou secas, sem casca</td>\n",
       "      <td>Importação</td>\n",
       "      <td>Chile</td>\n",
       "      <td>RODOVIARIA</td>\n",
       "      <td>Pernambuco</td>\n",
       "      <td>2021-03-01</td>\n",
       "    </tr>\n",
       "  </tbody>\n",
       "</table>\n",
       "</div>"
      ],
      "text/plain": [
       "   Peso Líquido (Kg)  Custo FOB (U$)                            Classe  \\\n",
       "0              10500           86734  Cultivo de outras frutas e nozes   \n",
       "1               1186           12544  Cultivo de outras frutas e nozes   \n",
       "\n",
       "                         Grupo                          Divisão  \\\n",
       "0  Cultivo de culturas perenes  Produção vegetal, animal e caça   \n",
       "1  Cultivo de culturas perenes  Produção vegetal, animal e caça   \n",
       "\n",
       "                     Nomeclatura NCM    Operação   País Modal de Transporte  \\\n",
       "0  Nozes frescas ou secas, sem casca  Importação  Chile            MARITIMA   \n",
       "1  Nozes frescas ou secas, sem casca  Importação  Chile          RODOVIARIA   \n",
       "\n",
       "               UF       Data  \n",
       "0  Santa Catarina 2021-11-01  \n",
       "1      Pernambuco 2021-03-01  "
      ]
     },
     "execution_count": 29,
     "metadata": {},
     "output_type": "execute_result"
    }
   ],
   "source": [
    "comex_agro.head(2)"
   ]
  },
  {
   "cell_type": "code",
   "execution_count": 13,
   "metadata": {},
   "outputs": [],
   "source": [
    "# Ajustando a coluna dos países\n",
    "\n",
    "pais = pd.read_csv('DB/PAIS.csv', encoding='latin', sep= ';')\n",
    "\n",
    "comex_agro = pd.merge(comex_agro, pais[['CO_PAIS', 'NO_PAIS']], on='CO_PAIS', how = 'left')\n",
    "comex_agro.drop('CO_PAIS', axis=1, inplace=True)\n",
    "comex_agro.rename(columns = {'NO_PAIS':'País'}, inplace=True)"
   ]
  },
  {
   "cell_type": "code",
   "execution_count": 17,
   "metadata": {},
   "outputs": [],
   "source": [
    "# Ajustando a coluna dos modais de transporte\n",
    "\n",
    "via = pd.read_csv('DB/VIA.csv', encoding = 'latin', sep = ';')\n",
    "\n",
    "comex_agro = pd.merge(comex_agro, via[['CO_VIA', 'NO_VIA']], on='CO_VIA', how = 'left')\n",
    "comex_agro.drop('CO_VIA', axis=1, inplace=True)\n",
    "comex_agro.rename(columns = {'NO_VIA':'Modal de Transporte'}, inplace=True)\n"
   ]
  },
  {
   "cell_type": "code",
   "execution_count": 19,
   "metadata": {},
   "outputs": [],
   "source": [
    "# Ajustando a coluna dos estados\n",
    "\n",
    "uf = pd.read_csv('DB/UF.csv', encoding= 'latin', sep=';')\n",
    "\n",
    "comex_agro = pd.merge(comex_agro, uf[['SG_UF', 'NO_UF']], \n",
    "                    left_on='SG_UF_NCM', right_on='SG_UF', how = 'left')\n",
    "comex_agro.drop(['SG_UF_NCM', 'SG_UF'], axis=1, inplace=True)\n",
    "comex_agro.rename(columns = {'NO_UF':'UF'}, inplace=True)"
   ]
  },
  {
   "cell_type": "code",
   "execution_count": 23,
   "metadata": {},
   "outputs": [],
   "source": [
    "# Ajustando a coluna da data\n",
    "\n",
    "comex_agro['Data'] = pd.to_datetime(comex_agro['CO_ANO'].astype(str) + '-' + comex_agro['CO_MES'].astype(str), format='%Y-%m')\n",
    "comex_agro.drop(['CO_ANO','CO_MES'], axis = 1, inplace=True)"
   ]
  },
  {
   "cell_type": "code",
   "execution_count": 25,
   "metadata": {},
   "outputs": [],
   "source": [
    "# Removendo colunas não utilizadas\n",
    "\n",
    "comex_agro.drop(['CO_NCM', 'CO_UNID', 'CO_URF', 'QT_ESTAT', 'VL_FRETE',\n",
    "                 'VL_SEGURO'], axis = 1, inplace=True)"
   ]
  },
  {
   "cell_type": "code",
   "execution_count": 28,
   "metadata": {},
   "outputs": [],
   "source": [
    "# Renomeando as demais colunas\n",
    "\n",
    "comex_agro.rename(columns = {'KG_LIQUIDO':'Peso Líquido (Kg)', 'VL_FOB':'Custo FOB (U$)',\n",
    "        'NO_ISIC_CLASSE':'Classe', 'NO_ISIC_GRUPO':'Grupo',\n",
    "        'NO_ISIC_DIVISAO':'Divisão', 'NO_NCM_POR':'Nomeclatura NCM'}, inplace=True)"
   ]
  },
  {
   "cell_type": "code",
   "execution_count": 30,
   "metadata": {},
   "outputs": [],
   "source": [
    "# Exportando os dados\n",
    "comex_agro.to_csv('DB/comex_agro.csv')"
   ]
  }
 ],
 "metadata": {
  "kernelspec": {
   "display_name": "Python 3",
   "language": "python",
   "name": "python3"
  },
  "language_info": {
   "codemirror_mode": {
    "name": "ipython",
    "version": 3
   },
   "file_extension": ".py",
   "mimetype": "text/x-python",
   "name": "python",
   "nbconvert_exporter": "python",
   "pygments_lexer": "ipython3",
   "version": "3.10.6"
  },
  "orig_nbformat": 4
 },
 "nbformat": 4,
 "nbformat_minor": 2
}
